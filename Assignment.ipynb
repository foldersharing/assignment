{
 "cells": [
  {
   "cell_type": "code",
   "execution_count": null,
   "id": "cdd98c7d-75d8-4759-949f-93feccf54b29",
   "metadata": {},
   "outputs": [],
   "source": [
    "# 1 \n",
    "# comments in the python are the lines which are ignored\n",
    "# there are three types of comments\n",
    "# a- single line comment \n",
    "# b- multiline comment\n",
    "# c- docstring comment\n"
   ]
  },
  {
   "cell_type": "code",
   "execution_count": null,
   "id": "bf89c7c7-64f1-454b-8ff5-3cf46009c763",
   "metadata": {},
   "outputs": [],
   "source": [
    "# Question 2 \n",
    "# Variables are symbolic name which points to an object, in simple words variables are used for\n",
    "# storing the data.\n",
    "# We can assign the data to a variable by using a =(equal) sign \n",
    "# For Example a = 5;\n",
    "\n"
   ]
  },
  {
   "cell_type": "code",
   "execution_count": 8,
   "id": "4ff9c120-198c-477a-9f8d-99e40e811e4f",
   "metadata": {},
   "outputs": [
    {
     "name": "stdout",
     "output_type": "stream",
     "text": [
      "10.0\n"
     ]
    }
   ],
   "source": [
    "# Question 3\n",
    "# Data types can be converted explicitly or implicitly\n",
    "# to convert the data type explicitly by our own \n",
    "# For Example \n",
    "\n",
    "s= 10;\n",
    "e= float(s)\n",
    "print(e)\n"
   ]
  },
  {
   "cell_type": "code",
   "execution_count": null,
   "id": "02f3c211-07a8-4d7a-a290-c12ff73d4511",
   "metadata": {},
   "outputs": [],
   "source": [
    "# Question 4 \n",
    "# To run the python script from the comand line\n",
    "# Just type the word \"python\" and write the script name ex(first_programm.py)"
   ]
  },
  {
   "cell_type": "code",
   "execution_count": 11,
   "id": "b1f3db71-1805-4dc4-b177-b02806594164",
   "metadata": {},
   "outputs": [
    {
     "name": "stdout",
     "output_type": "stream",
     "text": [
      "[2, 3]\n"
     ]
    }
   ],
   "source": [
    "# Question 5 \n",
    "my_list = [1, 2, 3, 4, 5]\n",
    "sub_list = my_list[1:3]\n",
    "print(sub_list)"
   ]
  },
  {
   "cell_type": "code",
   "execution_count": 15,
   "id": "a70e9f8d-4631-4e7f-8c89-151af2529c5e",
   "metadata": {},
   "outputs": [
    {
     "name": "stdout",
     "output_type": "stream",
     "text": [
      "(2+3j)\n",
      "2.0\n",
      "3.0\n"
     ]
    }
   ],
   "source": [
    "# Question 6\n",
    "# In Python, complex numbers are represented using the complex data type\n",
    "\n",
    "\n",
    "z = complex(2, 3)\n",
    "print(z) \n",
    "real_part = z.real\n",
    "imaginary_part = z.imag\n",
    "print(real_part)  \n",
    "print(imaginary_part)\n"
   ]
  },
  {
   "cell_type": "code",
   "execution_count": null,
   "id": "69cf931f-3b84-4ae2-a844-44869656e8c3",
   "metadata": {},
   "outputs": [],
   "source": [
    "# Question 7\n",
    "# age = 25"
   ]
  },
  {
   "cell_type": "code",
   "execution_count": null,
   "id": "64f0d114-f420-49cf-8866-6750baf59165",
   "metadata": {},
   "outputs": [],
   "source": [
    "# Question 8\n",
    "price = 9.99\n",
    "# It belongs to float data type"
   ]
  },
  {
   "cell_type": "code",
   "execution_count": 16,
   "id": "7803530d-14bc-4ef7-a6d3-365feaceb833",
   "metadata": {},
   "outputs": [
    {
     "name": "stdout",
     "output_type": "stream",
     "text": [
      "Aman Yadav\n"
     ]
    }
   ],
   "source": [
    "# Question 9\n",
    "name = \"Aman Yadav\"\n",
    "print(name)"
   ]
  },
  {
   "cell_type": "code",
   "execution_count": 18,
   "id": "48901902-2012-4f14-afcb-e876cacfa2ce",
   "metadata": {},
   "outputs": [
    {
     "name": "stdout",
     "output_type": "stream",
     "text": [
      "World\n"
     ]
    }
   ],
   "source": [
    "# Questio 10\n",
    "string = \"Hello, World!\"\n",
    "substring = string[7:12]\n",
    "print(substring)\n"
   ]
  },
  {
   "cell_type": "code",
   "execution_count": null,
   "id": "324fe0d0-ea8a-4f72-8c6f-22b8304d3f27",
   "metadata": {},
   "outputs": [],
   "source": [
    "# Question 11\n",
    "is_student = True "
   ]
  }
 ],
 "metadata": {
  "kernelspec": {
   "display_name": "Python 3 (ipykernel)",
   "language": "python",
   "name": "python3"
  },
  "language_info": {
   "codemirror_mode": {
    "name": "ipython",
    "version": 3
   },
   "file_extension": ".py",
   "mimetype": "text/x-python",
   "name": "python",
   "nbconvert_exporter": "python",
   "pygments_lexer": "ipython3",
   "version": "3.10.8"
  }
 },
 "nbformat": 4,
 "nbformat_minor": 5
}
